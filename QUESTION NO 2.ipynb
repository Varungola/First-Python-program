{
 "cells": [
  {
   "cell_type": "markdown",
   "id": "c19e1f93",
   "metadata": {},
   "source": [
    "## 'QUESTION 2'"
   ]
  },
  {
   "cell_type": "code",
   "execution_count": 5,
   "id": "cf04c24d",
   "metadata": {},
   "outputs": [
    {
     "ename": "IndentationError",
     "evalue": "unexpected indent (1843064593.py, line 2)",
     "output_type": "error",
     "traceback": [
      "\u001b[1;36m  Input \u001b[1;32mIn [5]\u001b[1;36m\u001b[0m\n\u001b[1;33m    print(a[-1::-1])\u001b[0m\n\u001b[1;37m    ^\u001b[0m\n\u001b[1;31mIndentationError\u001b[0m\u001b[1;31m:\u001b[0m unexpected indent\n"
     ]
    }
   ],
   "source": [
    "a=input(\"Enter a Word\")\n",
    "    print(a[-1::-1])\n",
    "    \n",
    "##KINDLY LET ME KNOW WHY SLICING METHOD IS NOT WORKING IN MY CODE  ( REVERSE INDEXING METHOD)"
   ]
  },
  {
   "cell_type": "code",
   "execution_count": null,
   "id": "fae7cb42",
   "metadata": {},
   "outputs": [],
   "source": []
  },
  {
   "cell_type": "code",
   "execution_count": 4,
   "id": "43f2dfa9",
   "metadata": {},
   "outputs": [
    {
     "name": "stdout",
     "output_type": "stream",
     "text": [
      "Enter a stringvarun\n",
      "nurav"
     ]
    }
   ],
   "source": [
    "a=input(\"Enter a string\")\n",
    "for i in range((len(a)-1),-1,-1):\n",
    "    print(a[i],end=\"\")"
   ]
  },
  {
   "cell_type": "code",
   "execution_count": null,
   "id": "30e9cdf8",
   "metadata": {},
   "outputs": [],
   "source": []
  }
 ],
 "metadata": {
  "kernelspec": {
   "display_name": "Python 3 (ipykernel)",
   "language": "python",
   "name": "python3"
  },
  "language_info": {
   "codemirror_mode": {
    "name": "ipython",
    "version": 3
   },
   "file_extension": ".py",
   "mimetype": "text/x-python",
   "name": "python",
   "nbconvert_exporter": "python",
   "pygments_lexer": "ipython3",
   "version": "3.10.2"
  }
 },
 "nbformat": 4,
 "nbformat_minor": 5
}
